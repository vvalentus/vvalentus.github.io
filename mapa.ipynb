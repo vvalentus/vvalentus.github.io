{
 "cells": [
  {
   "cell_type": "markdown",
   "metadata": {},
   "source": [
    "# Mapa de la quinta entrega"
   ]
  },
  {
   "cell_type": "code",
   "execution_count": null,
   "metadata": {},
   "outputs": [],
   "source": [
    "import pandas as pd\n",
    "import warnings\n",
    "import seaborn as sns\n",
    "import matplotlib.pyplot as plt\n",
    "from tabulate import tabulate\n",
    "from numpy import mean\n",
    "import geopandas as gpd\n",
    "import pandas as pd\n",
    "import folium\n",
    "from folium import Choropleth, Marker\n",
    "from IPython.display import display\n",
    "from folium.plugins import HeatMap\n",
    "\n",
    "warnings.filterwarnings('ignore')"
   ]
  },
  {
   "cell_type": "code",
   "execution_count": null,
   "metadata": {},
   "outputs": [],
   "source": [
    "t32023 = pd.read_csv(\"precios_t32023.csv\")\n",
    "t42023 = pd.read_csv(\"precios_t42023.csv\")\n",
    "t12023 = pd.read_csv(\"precios_t12023.csv\")\n",
    "t22023 = pd.read_csv(\"precios_t22023.csv\")\n",
    "\n",
    "d2023 = pd.concat([t32023, t42023, t12023, t22023], ignore_index=True)\n",
    "d2023.head()\n",
    "\n",
    "mapa_col = gpd.read_file(\"COLOMBIA.shp\")\n",
    "mapa_col.head()\n",
    "\n",
    "mapa_col['DPTO_CNMBR'] = mapa_col['DPTO_CNMBR'].str.replace('?', 'Ñ')\n",
    "mapa_col['DPTO_CNMBR'] = mapa_col['DPTO_CNMBR'].str.replace('ARCHIPIELAGO DE SAN ANDRES, SANTA CATALINA Y PROVIDENCIA', 'ARCHIPIELAGO DE SAN ANDRES')\n",
    "\n",
    "mapa_col = mapa_col.rename(columns={'DPTO_CNMBR': 'DEPARTAMENTO'})\n",
    "precios_promedio = d2023.groupby('DEPARTAMENTO')['VALOR PRECIO'].mean().reset_index()\n",
    "precios_promedio = precios_promedio.rename(columns={'VALOR PRECIO': 'PROMEDIO_PRECIO'})\n",
    "datos_unidos = mapa_col.merge(precios_promedio, on='DEPARTAMENTO', how='left')"
   ]
  },
  {
   "cell_type": "code",
   "execution_count": null,
   "metadata": {},
   "outputs": [],
   "source": [
    "m = folium.Map(location=[4.5709, -74.2973], zoom_start=7, tiles='CartoDB positron')\n",
    "\n",
    "folium.Choropleth(\n",
    "    geo_data=datos_unidos,\n",
    "    name='choropleth',\n",
    "    data=datos_unidos,\n",
    "    columns=['DEPARTAMENTO', 'PROMEDIO_PRECIO'],\n",
    "    key_on='feature.properties.DEPARTAMENTO',\n",
    "    fill_color='Spectral',\n",
    "    fill_opacity=0.7,\n",
    "    line_opacity=0.2,\n",
    "    legend_name='Precio Promedio',\n",
    "    highlight=True,\n",
    ").add_to(m)\n",
    "\n",
    "for _, row in datos_unidos.iterrows():\n",
    "    folium.Marker(\n",
    "        location=[row.geometry.centroid.y, row.geometry.centroid.x],\n",
    "        icon=None,\n",
    "        popup=f\"{row['DEPARTAMENTO']}: {row['PROMEDIO_PRECIO']:.2f}\",\n",
    "    ).add_to(m)\n",
    "\n",
    "folium.LayerControl().add_to(m)\n",
    "\n",
    "m\n"
   ]
  }
 ],
 "metadata": {
  "language_info": {
   "name": "python"
  }
 },
 "nbformat": 4,
 "nbformat_minor": 2
}
